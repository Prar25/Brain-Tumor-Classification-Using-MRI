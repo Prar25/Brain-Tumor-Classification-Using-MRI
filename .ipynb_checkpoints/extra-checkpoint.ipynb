{
 "cells": [
  {
   "cell_type": "code",
   "execution_count": 3,
   "id": "b1add841",
   "metadata": {
    "scrolled": true
   },
   "outputs": [
    {
     "name": "stdout",
     "output_type": "stream",
     "text": [
      "Collecting opencv-python\n",
      "  Downloading opencv_python-4.6.0.66-cp36-abi3-win_amd64.whl (35.6 MB)\n",
      "Requirement already satisfied: numpy>=1.17.3 in c:\\users\\pc\\anaconda3\\lib\\site-packages (from opencv-python) (1.20.3)\n",
      "Installing collected packages: opencv-python\n",
      "Successfully installed opencv-python-4.6.0.66\n",
      "Note: you may need to restart the kernel to use updated packages.\n"
     ]
    }
   ],
   "source": [
    "pip install opencv-python"
   ]
  },
  {
   "cell_type": "code",
   "execution_count": 2,
   "id": "fdcb77cd",
   "metadata": {},
   "outputs": [],
   "source": [
    "import numpy as np # linear algebra\n",
    "import pandas as pd # data processing, CSV file I/O (e.g. pd.read_csv)\n",
    "import keras\n",
    "from keras.models import Sequential\n",
    "from keras.layers import Conv2D, Flatten, Dense, MaxPooling2D, Dropout\n",
    "from sklearn.metrics import accuracy_score"
   ]
  },
  {
   "cell_type": "code",
   "execution_count": 3,
   "id": "06199c24",
   "metadata": {},
   "outputs": [],
   "source": [
    "import ipywidgets as widgets\n",
    "import io\n",
    "import os\n",
    "from PIL import Image\n",
    "import tqdm\n",
    "from sklearn.model_selection import train_test_split\n",
    "import cv2\n",
    "from sklearn.utils import shuffle\n",
    "import tensorflow as tf"
   ]
  },
  {
   "cell_type": "code",
   "execution_count": 4,
   "id": "b7aa8d72",
   "metadata": {},
   "outputs": [],
   "source": [
    "X_train = []\n",
    "y_train = []\n",
    "image_size = 150"
   ]
  },
  {
   "cell_type": "code",
   "execution_count": 5,
   "id": "4aed0bcb",
   "metadata": {},
   "outputs": [
    {
     "name": "stdout",
     "output_type": "stream",
     "text": [
      "['glioma_tumor', 'meningioma_tumor', 'no_tumor', 'pituitary_tumor']\n"
     ]
    }
   ],
   "source": [
    "train_path = 'Training'\n",
    "labels = os.listdir(train_path)\n",
    "print(labels)\n"
   ]
  },
  {
   "cell_type": "code",
   "execution_count": 6,
   "id": "9ab2a885",
   "metadata": {},
   "outputs": [],
   "source": [
    "for i in labels:\n",
    "    folder_path = os.path.join(train_path, i)\n",
    "    for j in os.listdir(folder_path):\n",
    "        img = cv2.imread(os.path.join(folder_path, j))\n",
    "        img = cv2.resize(img, (image_size, image_size))\n",
    "        \n",
    "        X_train.append(img)\n",
    "        y_train.append(i)\n",
    "        "
   ]
  },
  {
   "cell_type": "code",
   "execution_count": 7,
   "id": "0acc5e4a",
   "metadata": {},
   "outputs": [],
   "source": [
    "test_path = 'Testing'"
   ]
  },
  {
   "cell_type": "code",
   "execution_count": 8,
   "id": "972a8ebc",
   "metadata": {},
   "outputs": [],
   "source": [
    "for i in labels:\n",
    "    folder_path = os.path.join(test_path, i)\n",
    "    for j in os.listdir(folder_path):\n",
    "        img = cv2.imread(os.path.join(folder_path, j))\n",
    "        img = cv2.resize(img, (image_size, image_size))\n",
    "        \n",
    "        X_train.append(img)\n",
    "        y_train.append(i)"
   ]
  },
  {
   "cell_type": "code",
   "execution_count": 9,
   "id": "9efc7d5b",
   "metadata": {},
   "outputs": [
    {
     "data": {
      "text/plain": [
       "array([[[0, 0, 0],\n",
       "        [0, 0, 0],\n",
       "        [0, 0, 0],\n",
       "        ...,\n",
       "        [0, 0, 0],\n",
       "        [0, 0, 0],\n",
       "        [0, 0, 0]],\n",
       "\n",
       "       [[0, 0, 0],\n",
       "        [0, 0, 0],\n",
       "        [0, 0, 0],\n",
       "        ...,\n",
       "        [0, 0, 0],\n",
       "        [0, 0, 0],\n",
       "        [0, 0, 0]],\n",
       "\n",
       "       [[0, 0, 0],\n",
       "        [0, 0, 0],\n",
       "        [0, 0, 0],\n",
       "        ...,\n",
       "        [0, 0, 0],\n",
       "        [0, 0, 0],\n",
       "        [0, 0, 0]],\n",
       "\n",
       "       ...,\n",
       "\n",
       "       [[0, 0, 0],\n",
       "        [0, 0, 0],\n",
       "        [0, 0, 0],\n",
       "        ...,\n",
       "        [0, 0, 0],\n",
       "        [0, 0, 0],\n",
       "        [0, 0, 0]],\n",
       "\n",
       "       [[0, 0, 0],\n",
       "        [0, 0, 0],\n",
       "        [0, 0, 0],\n",
       "        ...,\n",
       "        [0, 0, 0],\n",
       "        [0, 0, 0],\n",
       "        [0, 0, 0]],\n",
       "\n",
       "       [[0, 0, 0],\n",
       "        [0, 0, 0],\n",
       "        [0, 0, 0],\n",
       "        ...,\n",
       "        [0, 0, 0],\n",
       "        [0, 0, 0],\n",
       "        [0, 0, 0]]], dtype=uint8)"
      ]
     },
     "execution_count": 9,
     "metadata": {},
     "output_type": "execute_result"
    }
   ],
   "source": [
    "X_train[1]"
   ]
  },
  {
   "cell_type": "code",
   "execution_count": 10,
   "id": "4f650197",
   "metadata": {},
   "outputs": [
    {
     "data": {
      "text/plain": [
       "'glioma_tumor'"
      ]
     },
     "execution_count": 10,
     "metadata": {},
     "output_type": "execute_result"
    }
   ],
   "source": [
    "y_train[1]"
   ]
  },
  {
   "cell_type": "code",
   "execution_count": 11,
   "id": "43b92aaa",
   "metadata": {},
   "outputs": [
    {
     "data": {
      "text/plain": [
       "(3264, 3264)"
      ]
     },
     "execution_count": 11,
     "metadata": {},
     "output_type": "execute_result"
    }
   ],
   "source": [
    "# X_train.shape, y_train.shape\n",
    "len(X_train), len(y_train)"
   ]
  },
  {
   "cell_type": "code",
   "execution_count": 12,
   "id": "5bb63365",
   "metadata": {},
   "outputs": [],
   "source": [
    "X_train = np.array(X_train)\n",
    "y_train = np.array(y_train)"
   ]
  },
  {
   "cell_type": "code",
   "execution_count": 13,
   "id": "575c027d",
   "metadata": {},
   "outputs": [
    {
     "data": {
      "text/plain": [
       "((3264, 150, 150, 3), (3264,))"
      ]
     },
     "execution_count": 13,
     "metadata": {},
     "output_type": "execute_result"
    }
   ],
   "source": [
    "X_train.shape, y_train.shape"
   ]
  },
  {
   "cell_type": "code",
   "execution_count": 14,
   "id": "743e4e5d",
   "metadata": {},
   "outputs": [
    {
     "data": {
      "text/plain": [
       "array([[[0, 0, 0],\n",
       "        [0, 0, 0],\n",
       "        [0, 0, 0],\n",
       "        ...,\n",
       "        [0, 0, 0],\n",
       "        [0, 0, 0],\n",
       "        [0, 0, 0]],\n",
       "\n",
       "       [[0, 0, 0],\n",
       "        [0, 0, 0],\n",
       "        [0, 0, 0],\n",
       "        ...,\n",
       "        [0, 0, 0],\n",
       "        [0, 0, 0],\n",
       "        [0, 0, 0]],\n",
       "\n",
       "       [[0, 0, 0],\n",
       "        [0, 0, 0],\n",
       "        [0, 0, 0],\n",
       "        ...,\n",
       "        [0, 0, 0],\n",
       "        [0, 0, 0],\n",
       "        [0, 0, 0]],\n",
       "\n",
       "       ...,\n",
       "\n",
       "       [[0, 0, 0],\n",
       "        [0, 0, 0],\n",
       "        [0, 0, 0],\n",
       "        ...,\n",
       "        [0, 0, 0],\n",
       "        [0, 0, 0],\n",
       "        [0, 0, 0]],\n",
       "\n",
       "       [[0, 0, 0],\n",
       "        [0, 0, 0],\n",
       "        [0, 0, 0],\n",
       "        ...,\n",
       "        [0, 0, 0],\n",
       "        [0, 0, 0],\n",
       "        [0, 0, 0]],\n",
       "\n",
       "       [[0, 0, 0],\n",
       "        [0, 0, 0],\n",
       "        [0, 0, 0],\n",
       "        ...,\n",
       "        [0, 0, 0],\n",
       "        [0, 0, 0],\n",
       "        [0, 0, 0]]], dtype=uint8)"
      ]
     },
     "execution_count": 14,
     "metadata": {},
     "output_type": "execute_result"
    }
   ],
   "source": [
    "X_train[1]"
   ]
  },
  {
   "cell_type": "code",
   "execution_count": 15,
   "id": "4d3fb85f",
   "metadata": {},
   "outputs": [
    {
     "data": {
      "text/plain": [
       "'glioma_tumor'"
      ]
     },
     "execution_count": 15,
     "metadata": {},
     "output_type": "execute_result"
    }
   ],
   "source": [
    "y_train[1]"
   ]
  },
  {
   "cell_type": "code",
   "execution_count": 16,
   "id": "82eee123",
   "metadata": {},
   "outputs": [
    {
     "data": {
      "text/plain": [
       "((3264, 150, 150, 3), (3264,))"
      ]
     },
     "execution_count": 16,
     "metadata": {},
     "output_type": "execute_result"
    }
   ],
   "source": [
    "X_train, y_train = shuffle(X_train, y_train, random_state = 99)\n",
    "X_train.shape, y_train.shape"
   ]
  },
  {
   "cell_type": "code",
   "execution_count": 17,
   "id": "403390cb",
   "metadata": {},
   "outputs": [],
   "source": [
    "X_train, X_test, y_train, y_test = train_test_split(X_train, y_train, test_size = 0.1, random_state = 100)"
   ]
  },
  {
   "cell_type": "code",
   "execution_count": 18,
   "id": "ff2b4d53",
   "metadata": {},
   "outputs": [
    {
     "data": {
      "text/plain": [
       "array(['meningioma_tumor', 'meningioma_tumor', 'pituitary_tumor',\n",
       "       'meningioma_tumor', 'meningioma_tumor'], dtype='<U16')"
      ]
     },
     "execution_count": 18,
     "metadata": {},
     "output_type": "execute_result"
    }
   ],
   "source": [
    "y_train[:5]"
   ]
  },
  {
   "cell_type": "code",
   "execution_count": 19,
   "id": "1ee8e93b",
   "metadata": {},
   "outputs": [
    {
     "data": {
      "text/plain": [
       "[1, 1, 3, 1, 1]"
      ]
     },
     "execution_count": 19,
     "metadata": {},
     "output_type": "execute_result"
    }
   ],
   "source": [
    "y_train_new = []\n",
    "for i in y_train:\n",
    "    y_train_new.append(labels.index(i))\n",
    "\n",
    "y_train_new[:5]"
   ]
  },
  {
   "cell_type": "code",
   "execution_count": 20,
   "id": "f207b521",
   "metadata": {},
   "outputs": [
    {
     "data": {
      "text/plain": [
       "array([[0., 1., 0., 0.],\n",
       "       [0., 1., 0., 0.],\n",
       "       [0., 0., 0., 1.],\n",
       "       ...,\n",
       "       [1., 0., 0., 0.],\n",
       "       [1., 0., 0., 0.],\n",
       "       [1., 0., 0., 0.]], dtype=float32)"
      ]
     },
     "execution_count": 20,
     "metadata": {},
     "output_type": "execute_result"
    }
   ],
   "source": [
    "y_train_new = tf.keras.utils.to_categorical(y_train_new)\n",
    "y_train_new"
   ]
  },
  {
   "cell_type": "code",
   "execution_count": 21,
   "id": "7cf599e2",
   "metadata": {},
   "outputs": [
    {
     "data": {
      "text/plain": [
       "array([[0., 1., 0., 0.],\n",
       "       [0., 0., 1., 0.],\n",
       "       [0., 1., 0., 0.],\n",
       "       ...,\n",
       "       [0., 0., 0., 1.],\n",
       "       [0., 0., 1., 0.],\n",
       "       [1., 0., 0., 0.]], dtype=float32)"
      ]
     },
     "execution_count": 21,
     "metadata": {},
     "output_type": "execute_result"
    }
   ],
   "source": [
    "y_test_new = []\n",
    "for i in y_test:\n",
    "    y_test_new.append(labels.index(i))\n",
    "\n",
    "y_test_new = tf.keras.utils.to_categorical(y_test_new)\n",
    "y_test_new"
   ]
  },
  {
   "cell_type": "code",
   "execution_count": 23,
   "id": "e17542a5",
   "metadata": {},
   "outputs": [],
   "source": [
    "model = Sequential()\n",
    "model.add(Conv2D(32, (3,3), activation = 'relu', input_shape = (image_size, image_size, 3)))\n",
    "model.add(Conv2D(64, (3,3), activation = 'relu'))\n",
    "model.add(MaxPooling2D(2,2))\n",
    "model.add(Dropout(0.3))\n",
    "\n",
    "model.add(Conv2D(64, (3,3), activation = 'relu'))\n",
    "model.add(Conv2D(64, (3,3), activation = 'relu'))\n",
    "model.add(Dropout(0.3))\n",
    "model.add(MaxPooling2D(2,2))\n",
    "model.add(Dropout(0.3))\n",
    "\n",
    "model.add(Conv2D(128, (3,3), activation = 'relu'))\n",
    "model.add(Conv2D(128, (3,3), activation = 'relu'))\n",
    "model.add(Conv2D(128, (3,3), activation = 'relu'))\n",
    "model.add(MaxPooling2D(2,2))\n",
    "model.add(Dropout(0.3))\n",
    "\n",
    "model.add(Conv2D(128, (3,3), activation = 'relu'))\n",
    "model.add(Conv2D(256, (3,3), activation = 'relu'))\n",
    "model.add(MaxPooling2D(2,2))\n",
    "model.add(Dropout(0.3))\n",
    "\n",
    "model.add(Flatten())\n",
    "\n",
    "model.add(Dense(512, activation = 'relu'))\n",
    "model.add(Dense(512, activation = 'relu'))\n",
    "model.add(Dropout(0.3))\n",
    "\n",
    "model.add(Dense(4, activation = 'softmax'))"
   ]
  },
  {
   "cell_type": "code",
   "execution_count": 24,
   "id": "279d92c5",
   "metadata": {},
   "outputs": [
    {
     "name": "stdout",
     "output_type": "stream",
     "text": [
      "Model: \"sequential_1\"\n",
      "_________________________________________________________________\n",
      " Layer (type)                Output Shape              Param #   \n",
      "=================================================================\n",
      " conv2d_9 (Conv2D)           (None, 148, 148, 32)      896       \n",
      "                                                                 \n",
      " conv2d_10 (Conv2D)          (None, 146, 146, 64)      18496     \n",
      "                                                                 \n",
      " max_pooling2d_4 (MaxPooling  (None, 73, 73, 64)       0         \n",
      " 2D)                                                             \n",
      "                                                                 \n",
      " dropout_6 (Dropout)         (None, 73, 73, 64)        0         \n",
      "                                                                 \n",
      " conv2d_11 (Conv2D)          (None, 71, 71, 64)        36928     \n",
      "                                                                 \n",
      " conv2d_12 (Conv2D)          (None, 69, 69, 64)        36928     \n",
      "                                                                 \n",
      " dropout_7 (Dropout)         (None, 69, 69, 64)        0         \n",
      "                                                                 \n",
      " max_pooling2d_5 (MaxPooling  (None, 34, 34, 64)       0         \n",
      " 2D)                                                             \n",
      "                                                                 \n",
      " dropout_8 (Dropout)         (None, 34, 34, 64)        0         \n",
      "                                                                 \n",
      " conv2d_13 (Conv2D)          (None, 32, 32, 128)       73856     \n",
      "                                                                 \n",
      " conv2d_14 (Conv2D)          (None, 30, 30, 128)       147584    \n",
      "                                                                 \n",
      " conv2d_15 (Conv2D)          (None, 28, 28, 128)       147584    \n",
      "                                                                 \n",
      " max_pooling2d_6 (MaxPooling  (None, 14, 14, 128)      0         \n",
      " 2D)                                                             \n",
      "                                                                 \n",
      " dropout_9 (Dropout)         (None, 14, 14, 128)       0         \n",
      "                                                                 \n",
      " conv2d_16 (Conv2D)          (None, 12, 12, 128)       147584    \n",
      "                                                                 \n",
      " conv2d_17 (Conv2D)          (None, 10, 10, 256)       295168    \n",
      "                                                                 \n",
      " max_pooling2d_7 (MaxPooling  (None, 5, 5, 256)        0         \n",
      " 2D)                                                             \n",
      "                                                                 \n",
      " dropout_10 (Dropout)        (None, 5, 5, 256)         0         \n",
      "                                                                 \n",
      " flatten_1 (Flatten)         (None, 6400)              0         \n",
      "                                                                 \n",
      " dense_3 (Dense)             (None, 512)               3277312   \n",
      "                                                                 \n",
      " dense_4 (Dense)             (None, 512)               262656    \n",
      "                                                                 \n",
      " dropout_11 (Dropout)        (None, 512)               0         \n",
      "                                                                 \n",
      " dense_5 (Dense)             (None, 4)                 2052      \n",
      "                                                                 \n",
      "=================================================================\n",
      "Total params: 4,447,044\n",
      "Trainable params: 4,447,044\n",
      "Non-trainable params: 0\n",
      "_________________________________________________________________\n"
     ]
    }
   ],
   "source": [
    "model.summary()"
   ]
  },
  {
   "cell_type": "code",
   "execution_count": 25,
   "id": "439667c8",
   "metadata": {},
   "outputs": [],
   "source": [
    "model.compile(\n",
    "    loss = 'categorical_crossentropy',\n",
    "    optimizer = 'Adam',\n",
    "    metrics = ['accuracy']\n",
    ")"
   ]
  },
  {
   "cell_type": "code",
   "execution_count": 26,
   "id": "5701afce",
   "metadata": {},
   "outputs": [
    {
     "name": "stdout",
     "output_type": "stream",
     "text": [
      "Epoch 1/20\n",
      "83/83 [==============================] - 445s 5s/step - loss: 2.2113 - accuracy: 0.2815 - val_loss: 1.3699 - val_accuracy: 0.2687\n",
      "Epoch 2/20\n",
      "83/83 [==============================] - 367s 4s/step - loss: 1.3412 - accuracy: 0.3250 - val_loss: 1.2665 - val_accuracy: 0.4932\n",
      "Epoch 3/20\n",
      "83/83 [==============================] - 408s 5s/step - loss: 1.1122 - accuracy: 0.5161 - val_loss: 0.9269 - val_accuracy: 0.6429\n",
      "Epoch 4/20\n",
      "83/83 [==============================] - 371s 4s/step - loss: 0.8865 - accuracy: 0.6035 - val_loss: 0.8792 - val_accuracy: 0.6224\n",
      "Epoch 5/20\n",
      "83/83 [==============================] - 277s 3s/step - loss: 0.7837 - accuracy: 0.6799 - val_loss: 0.8452 - val_accuracy: 0.6769\n",
      "Epoch 6/20\n",
      "83/83 [==============================] - 262s 3s/step - loss: 0.6862 - accuracy: 0.7094 - val_loss: 0.7527 - val_accuracy: 0.6633\n",
      "Epoch 7/20\n",
      "83/83 [==============================] - 259s 3s/step - loss: 0.5859 - accuracy: 0.7601 - val_loss: 0.5669 - val_accuracy: 0.7653\n",
      "Epoch 8/20\n",
      "83/83 [==============================] - 250s 3s/step - loss: 0.4854 - accuracy: 0.8097 - val_loss: 0.7573 - val_accuracy: 0.7381\n",
      "Epoch 9/20\n",
      "83/83 [==============================] - 250s 3s/step - loss: 0.4433 - accuracy: 0.8248 - val_loss: 0.4813 - val_accuracy: 0.8197\n",
      "Epoch 10/20\n",
      "83/83 [==============================] - 250s 3s/step - loss: 0.3606 - accuracy: 0.8600 - val_loss: 0.9867 - val_accuracy: 0.6701\n",
      "Epoch 11/20\n",
      "83/83 [==============================] - 249s 3s/step - loss: 0.3785 - accuracy: 0.8532 - val_loss: 0.4134 - val_accuracy: 0.8503\n",
      "Epoch 12/20\n",
      "83/83 [==============================] - 251s 3s/step - loss: 0.3042 - accuracy: 0.8880 - val_loss: 0.3631 - val_accuracy: 0.8605\n",
      "Epoch 13/20\n",
      "83/83 [==============================] - 249s 3s/step - loss: 0.2688 - accuracy: 0.8948 - val_loss: 0.3270 - val_accuracy: 0.8810\n",
      "Epoch 14/20\n",
      "83/83 [==============================] - 250s 3s/step - loss: 0.2253 - accuracy: 0.9126 - val_loss: 0.3149 - val_accuracy: 0.8776\n",
      "Epoch 15/20\n",
      "83/83 [==============================] - 252s 3s/step - loss: 0.1923 - accuracy: 0.9247 - val_loss: 0.3772 - val_accuracy: 0.8741\n",
      "Epoch 16/20\n",
      "83/83 [==============================] - 251s 3s/step - loss: 0.1668 - accuracy: 0.9361 - val_loss: 0.2736 - val_accuracy: 0.8878\n",
      "Epoch 17/20\n",
      "83/83 [==============================] - 254s 3s/step - loss: 0.1416 - accuracy: 0.9497 - val_loss: 0.3853 - val_accuracy: 0.8776\n",
      "Epoch 18/20\n",
      "83/83 [==============================] - 324s 4s/step - loss: 0.1326 - accuracy: 0.9535 - val_loss: 0.3711 - val_accuracy: 0.8844\n",
      "Epoch 19/20\n",
      "83/83 [==============================] - 325s 4s/step - loss: 0.1152 - accuracy: 0.9572 - val_loss: 0.4071 - val_accuracy: 0.8776\n",
      "Epoch 20/20\n",
      "83/83 [==============================] - 298s 4s/step - loss: 0.1463 - accuracy: 0.9482 - val_loss: 0.5051 - val_accuracy: 0.8537\n"
     ]
    }
   ],
   "source": [
    "hist = model.fit(X_train, y_train_new, epochs = 20, validation_split = 0.1)"
   ]
  },
  {
   "cell_type": "code",
   "execution_count": 27,
   "id": "f5814264",
   "metadata": {},
   "outputs": [],
   "source": [
    "model.save(\"Brain_Tumor_Image_Classification_Model.h5\")"
   ]
  },
  {
   "cell_type": "code",
   "execution_count": 28,
   "id": "e9b1c5e1",
   "metadata": {},
   "outputs": [],
   "source": [
    "acc = hist.history['accuracy']\n",
    "val_acc = hist.history['val_accuracy'] "
   ]
  },
  {
   "cell_type": "code",
   "execution_count": 29,
   "id": "568be7cb",
   "metadata": {},
   "outputs": [],
   "source": [
    "# acc, val_acc"
   ]
  },
  {
   "cell_type": "code",
   "execution_count": 30,
   "id": "ba3aaa38",
   "metadata": {},
   "outputs": [],
   "source": [
    "import matplotlib.pyplot as plt\n",
    "import seaborn as sns\n"
   ]
  },
  {
   "cell_type": "code",
   "execution_count": 31,
   "id": "b143b713",
   "metadata": {},
   "outputs": [
    {
     "data": {
      "image/png": "[encoded data removed]",
      "text/plain": [
       "<Figure size 1008x504 with 1 Axes>"
      ]
     },
     "metadata": {
      "needs_background": "light"
     },
     "output_type": "display_data"
    }
   ],
   "source": [
    "epochs = range(len(acc))\n",
    "fig = plt.figure(figsize = (14,7))\n",
    "plt.plot(epochs, acc, 'r', label = 'Training Accuracy')\n",
    "plt.plot(epochs, val_acc, 'b', label = 'Validation Accuracy')\n",
    "plt.legend(loc = 'upper left')\n",
    "plt.show()"
   ]
  },
  {
   "cell_type": "code",
   "execution_count": 32,
   "id": "aadb0d1b",
   "metadata": {},
   "outputs": [
    {
     "data": {
      "image/png": "[encoded data removed]",
      "text/plain": [
       "<Figure size 1008x504 with 1 Axes>"
      ]
     },
     "metadata": {
      "needs_background": "light"
     },
     "output_type": "display_data"
    }
   ],
   "source": [
    "loss = hist.history['loss']\n",
    "val_loss = hist.history['val_loss'] \n",
    "\n",
    "epochs = range(len(acc))\n",
    "fig = plt.figure(figsize = (14,7))\n",
    "plt.plot(epochs, loss, 'r', label = 'Training Loss')\n",
    "plt.plot(epochs, val_loss, 'b', label = 'Validation Loss')\n",
    "plt.legend(loc = 'upper left')\n",
    "plt.show()"
   ]
  },
  {
   "cell_type": "code",
   "execution_count": 59,
   "id": "9c197fe0",
   "metadata": {},
   "outputs": [
    {
     "data": {
      "text/plain": [
       "(150, 150, 3)"
      ]
     },
     "execution_count": 59,
     "metadata": {},
     "output_type": "execute_result"
    }
   ],
   "source": [
    "img_path = 'Testing/pituitary_tumor/image(11).jpg'\n",
    "img = cv2.imread(img_path)\n",
    "img = cv2.resize(img, (150, 150))\n",
    "img_array = np.array(img)\n",
    "\n",
    "img_array.shape"
   ]
  },
  {
   "cell_type": "code",
   "execution_count": 60,
   "id": "5278bd61",
   "metadata": {},
   "outputs": [
    {
     "data": {
      "text/plain": [
       "(1, 150, 150, 3)"
      ]
     },
     "execution_count": 60,
     "metadata": {},
     "output_type": "execute_result"
    }
   ],
   "source": [
    "img_array = img_array.reshape(1,150,150,3)\n",
    "img_array.shape"
   ]
  },
  {
   "cell_type": "code",
   "execution_count": 61,
   "id": "3ffd3a29",
   "metadata": {},
   "outputs": [],
   "source": [
    "from tensorflow.keras.preprocessing import image"
   ]
  },
  {
   "cell_type": "code",
   "execution_count": 62,
   "id": "1c15d611",
   "metadata": {},
   "outputs": [
    {
     "data": {
      "image/png": "[encoded data removed]",
      "text/plain": [
       "<Figure size 432x288 with 1 Axes>"
      ]
     },
     "metadata": {
      "needs_background": "light"
     },
     "output_type": "display_data"
    }
   ],
   "source": [
    "img = image.load_img(img_path)\n",
    "plt.imshow(img, interpolation = 'nearest')\n",
    "plt.show()"
   ]
  },
  {
   "cell_type": "code",
   "execution_count": 63,
   "id": "588dc71a",
   "metadata": {},
   "outputs": [
    {
     "name": "stdout",
     "output_type": "stream",
     "text": [
      "1/1 [==============================] - 0s 61ms/step\n",
      "[[4.8674913e-03 8.7885902e-04 1.7010404e-02 9.7724324e-01]]\n"
     ]
    }
   ],
   "source": [
    "a = model.predict(img_array)\n",
    "print(a)"
   ]
  },
  {
   "cell_type": "code",
   "execution_count": 64,
   "id": "325f02a7",
   "metadata": {},
   "outputs": [
    {
     "data": {
      "text/plain": [
       "3"
      ]
     },
     "execution_count": 64,
     "metadata": {},
     "output_type": "execute_result"
    }
   ],
   "source": [
    "indices = a.argmax()\n",
    "indices"
   ]
  },
  {
   "cell_type": "code",
   "execution_count": 65,
   "id": "60176393",
   "metadata": {},
   "outputs": [
    {
     "data": {
      "text/plain": [
       "'pituitary_tumor'"
      ]
     },
     "execution_count": 65,
     "metadata": {},
     "output_type": "execute_result"
    }
   ],
   "source": [
    "labels[indices]"
   ]
  },
  {
   "cell_type": "code",
   "execution_count": null,
   "id": "2b4bece5",
   "metadata": {},
   "outputs": [],
   "source": []
  }
 ],
 "metadata": {
  "kernelspec": {
   "display_name": "Python 3 (ipykernel)",
   "language": "python",
   "name": "python3"
  },
  "language_info": {
   "codemirror_mode": {
    "name": "ipython",
    "version": 3
   },
   "file_extension": ".py",
   "mimetype": "text/x-python",
   "name": "python",
   "nbconvert_exporter": "python",
   "pygments_lexer": "ipython3",
   "version": "3.9.7"
  }
 },
 "nbformat": 4,
 "nbformat_minor": 5
}
