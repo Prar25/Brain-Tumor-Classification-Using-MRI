{
 "cells": [
  {
   "cell_type": "code",
   "execution_count": 1,
   "id": "2d838d5b",
   "metadata": {},
   "outputs": [],
   "source": [
    "import numpy as np # linear algebra\n",
    "import pandas as pd # data processing, CSV file I/O (e.g. pd.read_csv)\n",
    "import keras\n",
    "from keras.models import Sequential\n",
    "from keras.layers import Conv2D, Flatten, Dense, MaxPooling2D, Dropout\n",
    "from sklearn.metrics import accuracy_score"
   ]
  },
  {
   "cell_type": "code",
   "execution_count": 2,
   "id": "c9dc31f0",
   "metadata": {},
   "outputs": [],
   "source": [
    "import ipywidgets as widgets\n",
    "import io\n",
    "import os\n",
    "from PIL import Image\n",
    "import tqdm\n",
    "from sklearn.model_selection import train_test_split\n",
    "import cv2\n",
    "from sklearn.utils import shuffle\n",
    "import tensorflow as tf"
   ]
  },
  {
   "cell_type": "code",
   "execution_count": 3,
   "id": "268ae3a4",
   "metadata": {},
   "outputs": [],
   "source": [
    "X_train = []\n",
    "y_train = []\n",
    "image_size = 150"
   ]
  },
  {
   "cell_type": "code",
   "execution_count": 4,
   "id": "1e8bb4c6",
   "metadata": {},
   "outputs": [
    {
     "name": "stdout",
     "output_type": "stream",
     "text": [
      "['glioma_tumor', 'meningioma_tumor', 'no_tumor', 'pituitary_tumor']\n"
     ]
    }
   ],
   "source": [
    "train_path = 'Training'\n",
    "labels = os.listdir(train_path)\n",
    "print(labels)"
   ]
  },
  {
   "cell_type": "code",
   "execution_count": 5,
   "id": "ef014d89",
   "metadata": {},
   "outputs": [],
   "source": [
    "for i in labels:\n",
    "    folder_path = os.path.join(train_path, i)\n",
    "    for j in os.listdir(folder_path):\n",
    "        img = cv2.imread(os.path.join(folder_path, j))\n",
    "        img = cv2.resize(img, (image_size, image_size))\n",
    "        \n",
    "        X_train.append(img)\n",
    "        y_train.append(i)"
   ]
  },
  {
   "cell_type": "code",
   "execution_count": 6,
   "id": "c71b9b1a",
   "metadata": {},
   "outputs": [],
   "source": [
    "test_path = 'Testing'"
   ]
  },
  {
   "cell_type": "code",
   "execution_count": 7,
   "id": "b196ceea",
   "metadata": {},
   "outputs": [],
   "source": [
    "for i in labels:\n",
    "    folder_path = os.path.join(test_path, i)\n",
    "    for j in os.listdir(folder_path):\n",
    "        img = cv2.imread(os.path.join(folder_path, j))\n",
    "        img = cv2.resize(img, (image_size, image_size))\n",
    "        \n",
    "        X_train.append(img)\n",
    "        y_train.append(i)"
   ]
  },
  {
   "cell_type": "code",
   "execution_count": 8,
   "id": "2fab5cd9",
   "metadata": {},
   "outputs": [
    {
     "data": {
      "text/plain": [
       "array([[[0, 0, 0],\n",
       "        [0, 0, 0],\n",
       "        [0, 0, 0],\n",
       "        ...,\n",
       "        [0, 0, 0],\n",
       "        [0, 0, 0],\n",
       "        [0, 0, 0]],\n",
       "\n",
       "       [[0, 0, 0],\n",
       "        [0, 0, 0],\n",
       "        [0, 0, 0],\n",
       "        ...,\n",
       "        [0, 0, 0],\n",
       "        [0, 0, 0],\n",
       "        [0, 0, 0]],\n",
       "\n",
       "       [[0, 0, 0],\n",
       "        [0, 0, 0],\n",
       "        [0, 0, 0],\n",
       "        ...,\n",
       "        [0, 0, 0],\n",
       "        [0, 0, 0],\n",
       "        [0, 0, 0]],\n",
       "\n",
       "       ...,\n",
       "\n",
       "       [[0, 0, 0],\n",
       "        [0, 0, 0],\n",
       "        [0, 0, 0],\n",
       "        ...,\n",
       "        [0, 0, 0],\n",
       "        [0, 0, 0],\n",
       "        [0, 0, 0]],\n",
       "\n",
       "       [[0, 0, 0],\n",
       "        [0, 0, 0],\n",
       "        [0, 0, 0],\n",
       "        ...,\n",
       "        [0, 0, 0],\n",
       "        [0, 0, 0],\n",
       "        [0, 0, 0]],\n",
       "\n",
       "       [[0, 0, 0],\n",
       "        [0, 0, 0],\n",
       "        [0, 0, 0],\n",
       "        ...,\n",
       "        [0, 0, 0],\n",
       "        [0, 0, 0],\n",
       "        [0, 0, 0]]], dtype=uint8)"
      ]
     },
     "execution_count": 8,
     "metadata": {},
     "output_type": "execute_result"
    }
   ],
   "source": [
    "X_train[1]"
   ]
  },
  {
   "cell_type": "code",
   "execution_count": 9,
   "id": "1b048c74",
   "metadata": {},
   "outputs": [
    {
     "data": {
      "text/plain": [
       "'glioma_tumor'"
      ]
     },
     "execution_count": 9,
     "metadata": {},
     "output_type": "execute_result"
    }
   ],
   "source": [
    "y_train[1]"
   ]
  },
  {
   "cell_type": "code",
   "execution_count": 10,
   "id": "84566396",
   "metadata": {},
   "outputs": [
    {
     "data": {
      "text/plain": [
       "(3264, 3264)"
      ]
     },
     "execution_count": 10,
     "metadata": {},
     "output_type": "execute_result"
    }
   ],
   "source": [
    "# X_train.shape, y_train.shape\n",
    "len(X_train), len(y_train)"
   ]
  },
  {
   "cell_type": "code",
   "execution_count": 11,
   "id": "3e439335",
   "metadata": {},
   "outputs": [],
   "source": [
    "X_train = np.array(X_train)\n",
    "y_train = np.array(y_train)"
   ]
  },
  {
   "cell_type": "code",
   "execution_count": 12,
   "id": "5b62b06c",
   "metadata": {},
   "outputs": [
    {
     "data": {
      "text/plain": [
       "((3264, 150, 150, 3), (3264,))"
      ]
     },
     "execution_count": 12,
     "metadata": {},
     "output_type": "execute_result"
    }
   ],
   "source": [
    "#end of 1\n",
    "X_train.shape, y_train.shape"
   ]
  },
  {
   "cell_type": "code",
   "execution_count": 13,
   "id": "627b6dd6",
   "metadata": {},
   "outputs": [
    {
     "data": {
      "text/plain": [
       "array([[[0, 0, 0],\n",
       "        [0, 0, 0],\n",
       "        [0, 0, 0],\n",
       "        ...,\n",
       "        [0, 0, 0],\n",
       "        [0, 0, 0],\n",
       "        [0, 0, 0]],\n",
       "\n",
       "       [[0, 0, 0],\n",
       "        [0, 0, 0],\n",
       "        [0, 0, 0],\n",
       "        ...,\n",
       "        [0, 0, 0],\n",
       "        [0, 0, 0],\n",
       "        [0, 0, 0]],\n",
       "\n",
       "       [[0, 0, 0],\n",
       "        [0, 0, 0],\n",
       "        [0, 0, 0],\n",
       "        ...,\n",
       "        [0, 0, 0],\n",
       "        [0, 0, 0],\n",
       "        [0, 0, 0]],\n",
       "\n",
       "       ...,\n",
       "\n",
       "       [[0, 0, 0],\n",
       "        [0, 0, 0],\n",
       "        [0, 0, 0],\n",
       "        ...,\n",
       "        [0, 0, 0],\n",
       "        [0, 0, 0],\n",
       "        [0, 0, 0]],\n",
       "\n",
       "       [[0, 0, 0],\n",
       "        [0, 0, 0],\n",
       "        [0, 0, 0],\n",
       "        ...,\n",
       "        [0, 0, 0],\n",
       "        [0, 0, 0],\n",
       "        [0, 0, 0]],\n",
       "\n",
       "       [[0, 0, 0],\n",
       "        [0, 0, 0],\n",
       "        [0, 0, 0],\n",
       "        ...,\n",
       "        [0, 0, 0],\n",
       "        [0, 0, 0],\n",
       "        [0, 0, 0]]], dtype=uint8)"
      ]
     },
     "execution_count": 13,
     "metadata": {},
     "output_type": "execute_result"
    }
   ],
   "source": [
    "X_train[1]"
   ]
  },
  {
   "cell_type": "code",
   "execution_count": 14,
   "id": "f175d011",
   "metadata": {},
   "outputs": [
    {
     "data": {
      "text/plain": [
       "'glioma_tumor'"
      ]
     },
     "execution_count": 14,
     "metadata": {},
     "output_type": "execute_result"
    }
   ],
   "source": [
    "y_train[1]"
   ]
  },
  {
   "cell_type": "code",
   "execution_count": 15,
   "id": "90267d59",
   "metadata": {},
   "outputs": [
    {
     "data": {
      "text/plain": [
       "((3264, 150, 150, 3), (3264,))"
      ]
     },
     "execution_count": 15,
     "metadata": {},
     "output_type": "execute_result"
    }
   ],
   "source": [
    "X_train, y_train = shuffle(X_train, y_train, random_state = 99)\n",
    "X_train.shape, y_train.shape"
   ]
  },
  {
   "cell_type": "code",
   "execution_count": 16,
   "id": "798d699e",
   "metadata": {},
   "outputs": [],
   "source": [
    "X_train, X_test, y_train, y_test = train_test_split(X_train, y_train, test_size = 0.1, random_state = 100)"
   ]
  },
  {
   "cell_type": "code",
   "execution_count": 17,
   "id": "55cce531",
   "metadata": {},
   "outputs": [
    {
     "data": {
      "text/plain": [
       "array(['meningioma_tumor', 'meningioma_tumor', 'pituitary_tumor',\n",
       "       'meningioma_tumor', 'meningioma_tumor'], dtype='<U16')"
      ]
     },
     "execution_count": 17,
     "metadata": {},
     "output_type": "execute_result"
    }
   ],
   "source": [
    "y_train[:5]"
   ]
  },
  {
   "cell_type": "code",
   "execution_count": 18,
   "id": "4c419f23",
   "metadata": {},
   "outputs": [
    {
     "data": {
      "text/plain": [
       "[1, 1, 3, 1, 1]"
      ]
     },
     "execution_count": 18,
     "metadata": {},
     "output_type": "execute_result"
    }
   ],
   "source": [
    "y_train_new = []\n",
    "for i in y_train:\n",
    "    y_train_new.append(labels.index(i))\n",
    "\n",
    "y_train_new[:5]"
   ]
  },
  {
   "cell_type": "code",
   "execution_count": 19,
   "id": "67d6d544",
   "metadata": {},
   "outputs": [
    {
     "data": {
      "text/plain": [
       "array([[0., 1., 0., 0.],\n",
       "       [0., 1., 0., 0.],\n",
       "       [0., 0., 0., 1.],\n",
       "       ...,\n",
       "       [1., 0., 0., 0.],\n",
       "       [1., 0., 0., 0.],\n",
       "       [1., 0., 0., 0.]], dtype=float32)"
      ]
     },
     "execution_count": 19,
     "metadata": {},
     "output_type": "execute_result"
    }
   ],
   "source": [
    "y_train_new = tf.keras.utils.to_categorical(y_train_new)\n",
    "y_train_new"
   ]
  },
  {
   "cell_type": "code",
   "execution_count": 20,
   "id": "ea571ccb",
   "metadata": {},
   "outputs": [
    {
     "data": {
      "text/plain": [
       "array([[0., 1., 0., 0.],\n",
       "       [0., 0., 1., 0.],\n",
       "       [0., 1., 0., 0.],\n",
       "       ...,\n",
       "       [0., 0., 0., 1.],\n",
       "       [0., 0., 1., 0.],\n",
       "       [1., 0., 0., 0.]], dtype=float32)"
      ]
     },
     "execution_count": 20,
     "metadata": {},
     "output_type": "execute_result"
    }
   ],
   "source": [
    "#end of 2\n",
    "y_test_new = []\n",
    "for i in y_test:\n",
    "    y_test_new.append(labels.index(i))\n",
    "\n",
    "y_test_new = tf.keras.utils.to_categorical(y_test_new)\n",
    "y_test_new"
   ]
  },
  {
   "cell_type": "code",
   "execution_count": 21,
   "id": "1cfc2cbb",
   "metadata": {},
   "outputs": [],
   "source": [
    "model = Sequential()\n",
    "model.add(Conv2D(32, (3,3), activation = 'relu', input_shape = (image_size, image_size, 3)))\n",
    "model.add(Conv2D(64, (3,3), activation = 'relu'))\n",
    "model.add(MaxPooling2D(2,2))\n",
    "model.add(Dropout(0.3))\n",
    "\n",
    "model.add(Conv2D(64, (3,3), activation = 'relu'))\n",
    "model.add(Conv2D(64, (3,3), activation = 'relu'))\n",
    "model.add(Dropout(0.3))\n",
    "model.add(MaxPooling2D(2,2))\n",
    "model.add(Dropout(0.3))\n",
    "\n",
    "model.add(Conv2D(128, (3,3), activation = 'relu'))\n",
    "model.add(Conv2D(128, (3,3), activation = 'relu'))\n",
    "model.add(Conv2D(128, (3,3), activation = 'relu'))\n",
    "model.add(MaxPooling2D(2,2))\n",
    "model.add(Dropout(0.3))\n",
    "\n",
    "model.add(Conv2D(128, (3,3), activation = 'relu'))\n",
    "model.add(Conv2D(256, (3,3), activation = 'relu'))\n",
    "model.add(MaxPooling2D(2,2))\n",
    "model.add(Dropout(0.3))\n",
    "\n",
    "model.add(Flatten())\n",
    "\n",
    "model.add(Dense(512, activation = 'relu'))\n",
    "model.add(Dense(512, activation = 'relu'))\n",
    "model.add(Dropout(0.3))\n",
    "\n",
    "model.add(Dense(4, activation = 'softmax'))"
   ]
  },
  {
   "cell_type": "code",
   "execution_count": 22,
   "id": "682bee21",
   "metadata": {},
   "outputs": [
    {
     "name": "stdout",
     "output_type": "stream",
     "text": [
      "Model: \"sequential\"\n",
      "_________________________________________________________________\n",
      " Layer (type)                Output Shape              Param #   \n",
      "=================================================================\n",
      " conv2d (Conv2D)             (None, 148, 148, 32)      896       \n",
      "                                                                 \n",
      " conv2d_1 (Conv2D)           (None, 146, 146, 64)      18496     \n",
      "                                                                 \n",
      " max_pooling2d (MaxPooling2D  (None, 73, 73, 64)       0         \n",
      " )                                                               \n",
      "                                                                 \n",
      " dropout (Dropout)           (None, 73, 73, 64)        0         \n",
      "                                                                 \n",
      " conv2d_2 (Conv2D)           (None, 71, 71, 64)        36928     \n",
      "                                                                 \n",
      " conv2d_3 (Conv2D)           (None, 69, 69, 64)        36928     \n",
      "                                                                 \n",
      " dropout_1 (Dropout)         (None, 69, 69, 64)        0         \n",
      "                                                                 \n",
      " max_pooling2d_1 (MaxPooling  (None, 34, 34, 64)       0         \n",
      " 2D)                                                             \n",
      "                                                                 \n",
      " dropout_2 (Dropout)         (None, 34, 34, 64)        0         \n",
      "                                                                 \n",
      " conv2d_4 (Conv2D)           (None, 32, 32, 128)       73856     \n",
      "                                                                 \n",
      " conv2d_5 (Conv2D)           (None, 30, 30, 128)       147584    \n",
      "                                                                 \n",
      " conv2d_6 (Conv2D)           (None, 28, 28, 128)       147584    \n",
      "                                                                 \n",
      " max_pooling2d_2 (MaxPooling  (None, 14, 14, 128)      0         \n",
      " 2D)                                                             \n",
      "                                                                 \n",
      " dropout_3 (Dropout)         (None, 14, 14, 128)       0         \n",
      "                                                                 \n",
      " conv2d_7 (Conv2D)           (None, 12, 12, 128)       147584    \n",
      "                                                                 \n",
      " conv2d_8 (Conv2D)           (None, 10, 10, 256)       295168    \n",
      "                                                                 \n",
      " max_pooling2d_3 (MaxPooling  (None, 5, 5, 256)        0         \n",
      " 2D)                                                             \n",
      "                                                                 \n",
      " dropout_4 (Dropout)         (None, 5, 5, 256)         0         \n",
      "                                                                 \n",
      " flatten (Flatten)           (None, 6400)              0         \n",
      "                                                                 \n",
      " dense (Dense)               (None, 512)               3277312   \n",
      "                                                                 \n",
      " dense_1 (Dense)             (None, 512)               262656    \n",
      "                                                                 \n",
      " dropout_5 (Dropout)         (None, 512)               0         \n",
      "                                                                 \n",
      " dense_2 (Dense)             (None, 4)                 2052      \n",
      "                                                                 \n",
      "=================================================================\n",
      "Total params: 4,447,044\n",
      "Trainable params: 4,447,044\n",
      "Non-trainable params: 0\n",
      "_________________________________________________________________\n"
     ]
    }
   ],
   "source": [
    "model.summary() # param -editable paramaters"
   ]
  },
  {
   "cell_type": "code",
   "execution_count": 23,
   "id": "4e853b2e",
   "metadata": {},
   "outputs": [],
   "source": [
    "model.compile(\n",
    "    loss = 'categorical_crossentropy',\n",
    "    optimizer = 'Adam',\n",
    "    metrics = ['accuracy']\n",
    ")"
   ]
  },
  {
   "cell_type": "code",
   "execution_count": 24,
   "id": "05b7a923",
   "metadata": {
    "scrolled": true
   },
   "outputs": [
    {
     "name": "stdout",
     "output_type": "stream",
     "text": [
      "Epoch 1/20\n",
      "83/83 [==============================] - 485s 6s/step - loss: 1.7842 - accuracy: 0.3004 - val_loss: 1.3609 - val_accuracy: 0.3878\n",
      "Epoch 2/20\n",
      "83/83 [==============================] - 504s 6s/step - loss: 1.1540 - accuracy: 0.4775 - val_loss: 1.0812 - val_accuracy: 0.6224\n",
      "Epoch 3/20\n",
      "83/83 [==============================] - 503s 6s/step - loss: 0.9456 - accuracy: 0.5933 - val_loss: 0.8477 - val_accuracy: 0.6531\n",
      "Epoch 4/20\n",
      "83/83 [==============================] - 506s 6s/step - loss: 0.8335 - accuracy: 0.6489 - val_loss: 0.7358 - val_accuracy: 0.7177\n",
      "Epoch 5/20\n",
      "83/83 [==============================] - 23709s 289s/step - loss: 0.7358 - accuracy: 0.6916 - val_loss: 0.8059 - val_accuracy: 0.6701\n",
      "Epoch 6/20\n",
      "83/83 [==============================] - 306s 4s/step - loss: 0.6511 - accuracy: 0.7329 - val_loss: 0.6976 - val_accuracy: 0.7279\n",
      "Epoch 7/20\n",
      "83/83 [==============================] - 301s 4s/step - loss: 0.5542 - accuracy: 0.7662 - val_loss: 0.5682 - val_accuracy: 0.8095\n",
      "Epoch 8/20\n",
      "83/83 [==============================] - 304s 4s/step - loss: 0.4844 - accuracy: 0.8120 - val_loss: 0.4795 - val_accuracy: 0.8265\n",
      "Epoch 9/20\n",
      "83/83 [==============================] - 273s 3s/step - loss: 0.4377 - accuracy: 0.8214 - val_loss: 0.4657 - val_accuracy: 0.8231\n",
      "Epoch 10/20\n",
      "83/83 [==============================] - 267s 3s/step - loss: 0.3871 - accuracy: 0.8532 - val_loss: 0.4717 - val_accuracy: 0.8265\n",
      "Epoch 11/20\n",
      "83/83 [==============================] - 268s 3s/step - loss: 0.3222 - accuracy: 0.8736 - val_loss: 0.5760 - val_accuracy: 0.7755\n",
      "Epoch 12/20\n",
      "83/83 [==============================] - 263s 3s/step - loss: 0.2958 - accuracy: 0.8812 - val_loss: 0.4314 - val_accuracy: 0.8503\n",
      "Epoch 13/20\n",
      "83/83 [==============================] - 262s 3s/step - loss: 0.2713 - accuracy: 0.8944 - val_loss: 0.5703 - val_accuracy: 0.7891\n",
      "Epoch 14/20\n",
      "83/83 [==============================] - 267s 3s/step - loss: 0.2229 - accuracy: 0.9118 - val_loss: 0.4933 - val_accuracy: 0.8367\n",
      "Epoch 15/20\n",
      "83/83 [==============================] - 264s 3s/step - loss: 0.1900 - accuracy: 0.9228 - val_loss: 0.3562 - val_accuracy: 0.8946\n",
      "Epoch 16/20\n",
      "83/83 [==============================] - 263s 3s/step - loss: 0.2015 - accuracy: 0.9285 - val_loss: 0.4213 - val_accuracy: 0.8537\n",
      "Epoch 17/20\n",
      "83/83 [==============================] - 263s 3s/step - loss: 0.1700 - accuracy: 0.9421 - val_loss: 0.2521 - val_accuracy: 0.9150\n",
      "Epoch 18/20\n",
      "83/83 [==============================] - 270s 3s/step - loss: 0.1370 - accuracy: 0.9497 - val_loss: 0.4125 - val_accuracy: 0.8537\n",
      "Epoch 19/20\n",
      "83/83 [==============================] - 265s 3s/step - loss: 0.1582 - accuracy: 0.9414 - val_loss: 0.3078 - val_accuracy: 0.8878\n",
      "Epoch 20/20\n",
      "83/83 [==============================] - 274s 3s/step - loss: 0.1410 - accuracy: 0.9523 - val_loss: 0.3081 - val_accuracy: 0.9014\n"
     ]
    }
   ],
   "source": [
    "hist = model.fit(X_train, y_train_new, epochs = 20, validation_split = 0.1)"
   ]
  },
  {
   "cell_type": "code",
   "execution_count": 25,
   "id": "aaedc6af",
   "metadata": {},
   "outputs": [],
   "source": [
    "model.save(\"Brain_Tumor_Image_Classification_Model.h5\")"
   ]
  },
  {
   "cell_type": "code",
   "execution_count": 26,
   "id": "f2163096",
   "metadata": {},
   "outputs": [],
   "source": [
    "acc = hist.history['accuracy']\n",
    "val_acc = hist.history['val_accuracy'] \n",
    "#end of 3"
   ]
  },
  {
   "cell_type": "code",
   "execution_count": 27,
   "id": "7f194a52",
   "metadata": {},
   "outputs": [],
   "source": [
    "\n",
    "import matplotlib.pyplot as plt\n",
    "import seaborn as sns\n"
   ]
  },
  {
   "cell_type": "code",
   "execution_count": 28,
   "id": "0b598ddc",
   "metadata": {},
   "outputs": [
    {
     "data": {
      "image/png": "[encoded data removed]",
      "text/plain": [
       "<Figure size 1008x504 with 1 Axes>"
      ]
     },
     "metadata": {
      "needs_background": "light"
     },
     "output_type": "display_data"
    }
   ],
   "source": [
    "epochs = range(len(acc))\n",
    "fig = plt.figure(figsize = (14,7))\n",
    "plt.plot(epochs, acc, 'r', label = 'Training Accuracy')\n",
    "plt.plot(epochs, val_acc, 'b', label = 'Validation Accuracy')\n",
    "plt.legend(loc = 'upper left')\n",
    "plt.show()"
   ]
  },
  {
   "cell_type": "code",
   "execution_count": 29,
   "id": "2930cf59",
   "metadata": {},
   "outputs": [
    {
     "data": {
      "image/png": "[encoded data removed]",
      "text/plain": [
       "<Figure size 1008x504 with 1 Axes>"
      ]
     },
     "metadata": {
      "needs_background": "light"
     },
     "output_type": "display_data"
    }
   ],
   "source": [
    "loss = hist.history['loss']\n",
    "val_loss = hist.history['val_loss'] \n",
    "\n",
    "epochs = range(len(acc))\n",
    "fig = plt.figure(figsize = (14,7))\n",
    "plt.plot(epochs, loss, 'r', label = 'Training Loss')\n",
    "plt.plot(epochs, val_loss, 'b', label = 'Validation Loss')\n",
    "plt.legend(loc = 'upper left')\n",
    "plt.show()"
   ]
  },
  {
   "cell_type": "code",
   "execution_count": 30,
   "id": "5a27470f",
   "metadata": {},
   "outputs": [
    {
     "data": {
      "text/plain": [
       "(150, 150, 3)"
      ]
     },
     "execution_count": 30,
     "metadata": {},
     "output_type": "execute_result"
    }
   ],
   "source": [
    "img_path = 'Testing/glioma_tumor/image(4).jpg'\n",
    "img = cv2.imread(img_path)\n",
    "img = cv2.resize(img, (150, 150))\n",
    "img_array = np.array(img)\n",
    "\n",
    "img_array.shape"
   ]
  },
  {
   "cell_type": "code",
   "execution_count": 31,
   "id": "72496407",
   "metadata": {},
   "outputs": [
    {
     "data": {
      "text/plain": [
       "(1, 150, 150, 3)"
      ]
     },
     "execution_count": 31,
     "metadata": {},
     "output_type": "execute_result"
    }
   ],
   "source": [
    "img_array = img_array.reshape(1,150,150,3)\n",
    "img_array.shape"
   ]
  },
  {
   "cell_type": "code",
   "execution_count": 32,
   "id": "3402a52f",
   "metadata": {},
   "outputs": [],
   "source": [
    "from tensorflow.keras.preprocessing import image"
   ]
  },
  {
   "cell_type": "code",
   "execution_count": 33,
   "id": "db33207e",
   "metadata": {},
   "outputs": [
    {
     "data": {
      "image/png": "[encoded data removed]",
      "text/plain": [
       "<Figure size 432x288 with 1 Axes>"
      ]
     },
     "metadata": {
      "needs_background": "light"
     },
     "output_type": "display_data"
    }
   ],
   "source": [
    "img = image.load_img(img_path)\n",
    "plt.imshow(img, interpolation = 'nearest')\n",
    "plt.show()"
   ]
  },
  {
   "cell_type": "code",
   "execution_count": 34,
   "id": "529d99ab",
   "metadata": {},
   "outputs": [
    {
     "name": "stdout",
     "output_type": "stream",
     "text": [
      "1/1 [==============================] - 0s 207ms/step\n",
      "[[9.2584485e-01 2.9334847e-02 4.4816252e-02 4.0381465e-06]]\n"
     ]
    }
   ],
   "source": [
    "a = model.predict(img_array)\n",
    "print(a)"
   ]
  },
  {
   "cell_type": "code",
   "execution_count": 35,
   "id": "5ffe5c3a",
   "metadata": {},
   "outputs": [
    {
     "data": {
      "text/plain": [
       "0"
      ]
     },
     "execution_count": 35,
     "metadata": {},
     "output_type": "execute_result"
    }
   ],
   "source": [
    "indices = a.argmax()\n",
    "indices"
   ]
  },
  {
   "cell_type": "code",
   "execution_count": 36,
   "id": "e332bd08",
   "metadata": {},
   "outputs": [
    {
     "data": {
      "text/plain": [
       "'glioma_tumor'"
      ]
     },
     "execution_count": 36,
     "metadata": {},
     "output_type": "execute_result"
    }
   ],
   "source": [
    "labels[indices]"
   ]
  },
  {
   "cell_type": "code",
   "execution_count": 37,
   "id": "086372e1",
   "metadata": {},
   "outputs": [],
   "source": [
    "from IPython.display import display,clear_output"
   ]
  },
  {
   "cell_type": "code",
   "execution_count": 38,
   "id": "2a1a57bf",
   "metadata": {},
   "outputs": [
    {
     "data": {
      "application/vnd.jupyter.widget-view+json": {
       "model_id": "f632d327d60e4bbd8c027b44c876f2aa",
       "version_major": 2,
       "version_minor": 0
      },
      "text/plain": [
       "VBox(children=(HBox(children=(Image(value=b'\\x89PNG\\r\\n\\x1a\\n\\x00\\x00\\x00\\rIHDR\\x00\\x00\\x00\\xe1\\x00\\x00\\x00\\xe…"
      ]
     },
     "metadata": {},
     "output_type": "display_data"
    }
   ],
   "source": [
    "def img_pred(upload, output):\n",
    "    for name, file_info in upload.value.items():\n",
    "        img = Image.open(io.BytesIO(file_info['content']))\n",
    "        \n",
    "        # Check if the image is a valid MRI image\n",
    "        if img.mode != 'RGB':\n",
    "            output.value = 'Invalid image'\n",
    "            return\n",
    "        \n",
    "        opencvImage = cv2.cvtColor(np.array(img), cv2.COLOR_RGB2BGR)\n",
    "        img = cv2.resize(opencvImage, (150, 150))\n",
    "        img = img.reshape(1, 150, 150, 3)\n",
    "        p = model.predict(img)\n",
    "        p = np.argmax(p,axis=1)[0]\n",
    "\n",
    "       \n",
    "        \n",
    "        if p == 0:\n",
    "                p = 'Glioma Tumor'\n",
    "        elif p == 1:\n",
    "                p = 'Meningioma Tumor'\n",
    "        elif p == 2:\n",
    "                p = 'No Tumor'\n",
    "        else:\n",
    "                p = 'Pituitary Tumor'\n",
    "                \n",
    "        output.value = f'The model predicts that it is a {p}'\n",
    "    \n",
    "# Define the file uploader widget\n",
    "uploader = widgets.FileUpload(accept='.jpg,.jpeg,.png', multiple=True)\n",
    "uploader_widget = widgets.Box([widgets.Label('Upload an image:'), uploader])\n",
    "uploader_widget.layout.margin = '10px'\n",
    "uploader_widget.layout.padding = '10px'\n",
    "uploader_widget.layout.border = '2px solid #cccccc'\n",
    "uploader_widget.layout.border_radius = '5px'\n",
    "uploader_widget.layout.width = '500px'\n",
    "\n",
    "# Define the output text box\n",
    "output = widgets.Textarea(value='', description='Prediction:', disabled=True)\n",
    "output_widget = widgets.Box([output])\n",
    "output_widget.layout.margin = '10px'\n",
    "output_widget.layout.padding = '10px'\n",
    "output_widget.layout.border = '2px solid #cccccc'\n",
    "output_widget.layout.border_radius = '5px'\n",
    "output_widget.layout.width = '500px'\n",
    "\n",
    "# Define the prediction button\n",
    "button = widgets.Button(description='Predict', button_style='info')\n",
    "button.layout.margin = '10px'\n",
    "button.layout.width = '100px'\n",
    "button.style.button_color = '#6c5ce7' # make button purple\n",
    "button.style.font_weight = 'bold'\n",
    "button.style.font_size = '16px'\n",
    "button.style.border_radius = '5px'\n",
    "button.style.border_color = '#3b8bed'\n",
    "button.style.border_width = '2px'\n",
    "\n",
    "# Define the event handler for the button\n",
    "def on_button_click(button):\n",
    "    img_pred(uploader, output)\n",
    "\n",
    "# Attach the event handler to the button\n",
    "button.on_click(on_button_click)\n",
    "\n",
    "# Define the logo image\n",
    "logo_image = widgets.Image(value=open('logo.png', 'rb').read(), format='png', width=30, height = 30)\n",
    "\n",
    "# Define the header box\n",
    "header_box = widgets.HBox([logo_image, widgets.Label('Brain Tumor Classifier', \n",
    "                                                     style={'font-weight': 'bold', 'font-size': '32pt'})])\n",
    "header_box.layout.margin = '10px'\n",
    "\n",
    "# Define the footer box\n",
    "footer_box = widgets.HBox([widgets.Label('Made with ❤️ by Students of DSATM', style={'font-size': '14pt'})])\n",
    "footer_box.layout.margin = '10px'\n",
    "\n",
    "# Define the main box\n",
    "main_box = widgets.VBox([header_box, uploader_widget, button, output_widget, footer_box])\n",
    "main_box.layout.align_items = 'center'\n",
    "main_box.layout.justify_content = 'center'\n",
    "main_box.layout.background_color = '#f5f5f5'\n",
    "\n",
    "# Display the widgets in a vertical box layout\n",
    "display(main_box)\n"
   ]
  },
  {
   "cell_type": "code",
   "execution_count": null,
   "id": "6ffd3e5c",
   "metadata": {},
   "outputs": [],
   "source": []
  }
 ],
 "metadata": {
  "kernelspec": {
   "display_name": "Python 3 (ipykernel)",
   "language": "python",
   "name": "python3"
  },
  "language_info": {
   "codemirror_mode": {
    "name": "ipython",
    "version": 3
   },
   "file_extension": ".py",
   "mimetype": "text/x-python",
   "name": "python",
   "nbconvert_exporter": "python",
   "pygments_lexer": "ipython3",
   "version": "3.9.7"
  }
 },
 "nbformat": 4,
 "nbformat_minor": 5
}
